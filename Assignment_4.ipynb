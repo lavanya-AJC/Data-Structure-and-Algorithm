{
  "nbformat": 4,
  "nbformat_minor": 0,
  "metadata": {
    "colab": {
      "name": "Assignment 4.ipynb",
      "provenance": []
    },
    "kernelspec": {
      "name": "python3",
      "display_name": "Python 3"
    }
  },
  "cells": [
    {
      "cell_type": "markdown",
      "metadata": {
        "id": "NcCGHf4E3_tr"
      },
      "source": [
        "# Q1. Write a program to print the following pattern\r\n",
        "# 1\r\n",
        "# 22\r\n",
        "# 333\r\n",
        "# 4444\r\n",
        "# 55555"
      ]
    },
    {
      "cell_type": "code",
      "metadata": {
        "id": "A3taNVdK1SlO",
        "colab": {
          "base_uri": "https://localhost:8080/"
        },
        "outputId": "5228a5c8-4565-4d78-90f6-66030dbbc65d"
      },
      "source": [
        "n = int(input(\"Enter number of rows: \"))\r\n",
        "\r\n",
        "for i in range(1,n+1):\r\n",
        "    for j in range(1, i+1):\r\n",
        "        print(i, end=\"\")\r\n",
        "    print()"
      ],
      "execution_count": 57,
      "outputs": [
        {
          "output_type": "stream",
          "text": [
            "Enter number of rows: 5\n",
            "1\n",
            "22\n",
            "333\n",
            "4444\n",
            "55555\n"
          ],
          "name": "stdout"
        }
      ]
    },
    {
      "cell_type": "markdown",
      "metadata": {
        "id": "3MrB5V2x31AK"
      },
      "source": [
        "# **Q2 Write a Python program to add two numbers using class and object.**"
      ]
    },
    {
      "cell_type": "code",
      "metadata": {
        "colab": {
          "base_uri": "https://localhost:8080/"
        },
        "id": "p_zlxt6x368R",
        "outputId": "51cc24fa-c01f-40e5-ff58-8d87b5d78db7"
      },
      "source": [
        "class Addition:\r\n",
        "\r\n",
        "    def Add(self, num1, num2):\r\n",
        "        sum = num1 + num2\r\n",
        "        return sum\r\n",
        "\r\n",
        "num1 = int(input(\"Enter first number:\"))\r\n",
        "num2 = int(input(\"Enter second number:\"))\r\n",
        "\r\n",
        "add_nums = Addition()\r\n",
        "sum = add_nums.Add(num1, num2)\r\n",
        "\r\n",
        "print(\"Sum of two numbers is:\", sum)"
      ],
      "execution_count": null,
      "outputs": [
        {
          "output_type": "stream",
          "text": [
            "Enter first number:7\n",
            "Enter second number:4\n",
            "Sum of two numbers is: 11\n"
          ],
          "name": "stdout"
        }
      ]
    },
    {
      "cell_type": "markdown",
      "metadata": {
        "id": "BO4lsSF54XY7"
      },
      "source": [
        "# **Q3. Define a function swap that should swap two values and print the swapped variables outside the swap function.**"
      ]
    },
    {
      "cell_type": "code",
      "metadata": {
        "id": "ZOfZgfsD4lns",
        "colab": {
          "base_uri": "https://localhost:8080/"
        },
        "outputId": "e5d747c9-2bf9-4904-e8ba-5b9c7ae6b477"
      },
      "source": [
        "\r\n",
        "def Swap_variables(x, y):\r\n",
        "  x, y = y, x\r\n",
        "  print(\"Values of x and y after swapping:\",x,y)\r\n",
        "\r\n",
        "\r\n",
        "x = int(input(\"Enter 1st variable to swap: \"))\r\n",
        "y = int(input(\"Enter 2nd variable to swap: \"))\r\n",
        "print(\"Values of x and y before swapping:\",x,y)\r\n",
        "Swap_variables(x, y)\r\n",
        "\r\n"
      ],
      "execution_count": 21,
      "outputs": [
        {
          "output_type": "stream",
          "text": [
            "Enter 1st variable to swap: 6\n",
            "Enter 2nd variable to swap: 7\n",
            "Values of x and y before swapping: 6 7\n",
            "Values of x and y after swapping: 7 6\n"
          ],
          "name": "stdout"
        }
      ]
    }
  ]
}